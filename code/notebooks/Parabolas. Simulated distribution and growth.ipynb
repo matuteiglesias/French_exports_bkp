{
 "cells": [
  {
   "cell_type": "code",
   "execution_count": 1,
   "metadata": {},
   "outputs": [],
   "source": [
    "import warnings\n",
    "warnings.filterwarnings('ignore')\n",
    "\n",
    "import pandas as pd\n",
    "\n",
    "import matplotlib.pyplot as plt\n",
    "%matplotlib inline\n",
    "\n",
    "import seaborn\n",
    "\n",
    "data_path = './../../data/processed/'\n",
    "\n",
    "import json\n",
    "vardict = json.load(open(\"variables.json\"))\n",
    "def add_entry(vardict, name, element):\n",
    "    vardict[name]= element\n",
    "    return vardict\n",
    "\n",
    "# vardict = dict() dont run!, only if we need to clean the variables from scratch\n",
    "# args = ['variable2', x.format()]\n",
    "# res = add_entry(vardict, *args)\n",
    "\n",
    "varnames_list = []\n",
    "\n",
    "import numpy as np"
   ]
  },
  {
   "cell_type": "code",
   "execution_count": null,
   "metadata": {},
   "outputs": [],
   "source": []
  },
  {
   "cell_type": "markdown",
   "metadata": {},
   "source": [
    "# Total size distribution"
   ]
  },
  {
   "cell_type": "code",
   "execution_count": 2,
   "metadata": {},
   "outputs": [],
   "source": [
    "col = 'ID'\n",
    "df = pd.read_csv(data_path + col.replace(' ', '_')+'_YM.csv')\n",
    "# df['date'] = pd.to_datetime(df.MONTH.astype(str) + '/' + df.YEAR.astype(str), format = '%m/%Y')\n",
    "df['date'] = pd.DatetimeIndex(pd.to_datetime(12*(df.YEAR - 1997) + df.MONTH, unit='M', origin=pd.Timestamp('1996-12-15'))).round('D')\n",
    "# df['date'] = pd.DatetimeIndex(pd.to_datetime(12*(df.YEAR - 1997) + df.MONTH, unit='M', origin=pd.Timestamp('1996-12-15'))).round('D')\n"
   ]
  },
  {
   "cell_type": "code",
   "execution_count": 3,
   "metadata": {},
   "outputs": [],
   "source": [
    "fs_df = df.groupby(['ID','IMPORT','YEAR'])['VART'].sum().reset_index()"
   ]
  },
  {
   "cell_type": "markdown",
   "metadata": {},
   "source": [
    "## Fit parabola"
   ]
  },
  {
   "cell_type": "code",
   "execution_count": 4,
   "metadata": {},
   "outputs": [],
   "source": [
    "from numpy import log10, inf, nan\n",
    "fs_df['log_VART'] = log10(fs_df['VART'])\n",
    "\n",
    "i = 0\n",
    "fs_df_slice = fs_df.loc[fs_df.IMPORT == i].replace(-inf, nan).dropna()\n",
    "fs_df_slice['bin'], bins_x = pd.cut(fs_df_slice['log_VART'], 90, retbins=True)\n",
    "bin_width = pd.Series(bins_x).diff().median()\n",
    "\n",
    "fs_ct_val = fs_df_slice.groupby('bin').agg({'ID': 'count', 'VART': sum}).rename(columns = {'ID': 'counts', 'VART': 'value'})\n",
    "\n",
    "fs_ct_val/=fs_ct_val.sum()\n",
    "fs_ct_PDF = fs_ct_val/bin_width\n",
    "\n",
    "fs_ct_PDF['log_VART'] = (bins_x[:-1] + bins_x[1:])/2.\n",
    "\n",
    "fit_data = fs_ct_PDF.loc[np.array([b.mid for b in fs_ct_PDF.index]) > 3]\n",
    "\n",
    "# attention, this is natural log, but better for getting the exponent of the lognormal\n",
    "fit_data[['counts', 'value']] = np.log(fit_data[['counts', 'value']]).add_suffix('_log')\n"
   ]
  },
  {
   "cell_type": "code",
   "execution_count": 25,
   "metadata": {},
   "outputs": [
    {
     "data": {
      "image/png": "[encoded data removed]",
      "text/plain": [
       "<Figure size 504x360 with 1 Axes>"
      ]
     },
     "metadata": {},
     "output_type": "display_data"
    }
   ],
   "source": [
    "fig, ax = plt.subplots(1, figsize = (7, 5))\n",
    "\n",
    "## COUNTS\n",
    "x = fit_data.log_VART\n",
    "y = fit_data.counts\n",
    "z = np.polyfit(x, y, 2)\n",
    "p = np.poly1d(z)\n",
    "\n",
    "xp = np.linspace(3, 10, 70)\n",
    "ax.plot(xp, p(xp), '-', c = 'r')\n",
    "ax.plot(x, y, '.', c = '#1f77b4')\n",
    "\n",
    "sigma = 1/np.sqrt(-2*z[0])\n",
    "mu = -z[1]/(2*z[0])\n",
    "\n",
    "# cnt, bns = np.histogram(np.random.normal(mu, sigma, 1000000), x)\n",
    "# cnt = cnt/cnt.sum()\n",
    "# plt.plot(x[:-1] + .115/2, np.log(cnt) + 2.2)\n",
    "\n",
    "# VALUE\n",
    "#fit\n",
    "zval = np.polyfit(x + (sigma**2)*np.log(10), y, 2)\n",
    "poly_val = np.poly1d(zval)\n",
    "# plt.plot(x[:-1] + .115/2, np.log(cnt) + 2.2)\n",
    "ax.plot(xp, poly_val(xp), '-', c = 'r')\n",
    "\n",
    "#points\n",
    "y2 = fit_data.value\n",
    "plt.plot(x, y2, '.', c = '#ff7f0e')\n",
    "cnt, bns = np.histogram(np.random.normal(mu + (sigma**2)*np.log(10), sigma, 1000000), x)\n",
    "cnt = cnt/cnt.sum()\n",
    "\n",
    "\n",
    "# label='%5.3f x + %5.3f' % tuple(popt)\n",
    "# ddd\n",
    "\n",
    "ax.annotate(r'$ \\frac{{-(x - \\mu)} ^{2}}{2 {\\sigma}^{2}}  - \\frac{1}{\\sqrt{\\sigma}}$' % mu, xy=(mu, -.5), ha=\"center\", fontsize=14)\n",
    "ax.annotate(r'$ \\frac{{-(x - \\mu - {\\sigma}^{2} \\ln(10)\\ )} ^{2}}{2 {\\sigma}^{2}} - \\frac{1}{\\sqrt{\\sigma}}$', \n",
    "            xy=(mu + (sigma**2)*np.log(10), -.5), ha=\"center\", fontsize=14)\n",
    "\n",
    "ax.set_ylim(-10, 1)\n",
    "ax.set_xlabel('Exporter size (log)')\n",
    "ax.set_ylabel('PDF (ln)')\n",
    "plt.savefig('./../../../thesis_writing/figures/parabolas_fit.png', dpi = 400)\n",
    "plt.show()"
   ]
  },
  {
   "cell_type": "code",
   "execution_count": 15,
   "metadata": {},
   "outputs": [
    {
     "data": {
      "text/plain": [
       "1.0100041546991176"
      ]
     },
     "execution_count": 15,
     "metadata": {},
     "output_type": "execute_result"
    }
   ],
   "source": [
    "y2.max() / (-1/np.sqrt(sigma))"
   ]
  },
  {
   "cell_type": "markdown",
   "metadata": {},
   "source": [
    "### Save fitted params"
   ]
  },
  {
   "cell_type": "code",
   "execution_count": 8,
   "metadata": {},
   "outputs": [
    {
     "data": {
      "text/plain": [
       "[['lognormal_fit_mu', '4.47'],\n",
       " ['lognormal_fit_muval', '8.45'],\n",
       " ['lognormal_fit_sigma', '1.31']]"
      ]
     },
     "execution_count": 8,
     "metadata": {},
     "output_type": "execute_result"
    }
   ],
   "source": [
    "varnames_list = []\n",
    "sigma = 1/np.sqrt(-2*z[0])\n",
    "mu = -z[1]/(2*z[0])\n",
    "muval = mu + (sigma**2)*np.log(10)\n",
    "\n",
    "varnames_list += [['lognormal_fit_mu', \"{:.2f}\".format(mu)]] \n",
    "varnames_list += [['lognormal_fit_muval', \"{:.2f}\".format(muval)]] \n",
    "varnames_list += [['lognormal_fit_sigma', \"{:.2f}\".format(sigma)]] \n",
    "\n",
    "for name in varnames_list:\n",
    "    res = add_entry(vardict, *name)\n",
    "\n",
    "f = open(\"variables.json\",\"w\")\n",
    "f.write(json.dumps(res))\n",
    "f.close()\n",
    "\n",
    "varnames_list"
   ]
  },
  {
   "cell_type": "markdown",
   "metadata": {},
   "source": [
    "# Quantiles"
   ]
  },
  {
   "cell_type": "code",
   "execution_count": 26,
   "metadata": {},
   "outputs": [
    {
     "data": {
      "image/png": "[encoded data removed]",
      "text/plain": [
       "<Figure size 504x360 with 1 Axes>"
      ]
     },
     "metadata": {},
     "output_type": "display_data"
    }
   ],
   "source": [
    "from scipy.special import erfinv\n",
    "\n",
    "# Quantiles of the value distribution\n",
    "qx = []\n",
    "cum_cnt = []\n",
    "for q in np.arange(0.1, 1.1, .1):\n",
    "    _x = sigma*np.sqrt(2)*erfinv(2*q - 1) + mu + (sigma**2)*np.log(10)\n",
    "    qx += [_x]\n",
    "    cum_cnt += [.5*(np.erf((_x - mu)/(sigma*np.sqrt(2))) + 1)]\n",
    "#     cum_cnt += [.5*(np.erf( erfinv(2*q - 1) + sigma*np.log(10)/np.sqrt(2) ) + 1)]\n",
    "\n",
    "# gaussian function for plotting\n",
    "def gaussian(x, mu, sig):\n",
    "    return np.exp(-np.power(x - mu, 2.) / (2 * np.power(sig, 2.)))/(np.sqrt(2*np.pi*sig**2))\n",
    "\n",
    "# PLOT\n",
    "fig, ax = plt.subplots(1, figsize = (7, 5))\n",
    "x = fit_data.log_VART\n",
    "ax.plot(x, gaussian(x, mu, sigma), '.', c = '#1f77b4')\n",
    "ax.plot(x, gaussian(x, mu + (sigma**2)*np.log(10), sigma), '.', c = '#ff7f0e')\n",
    "# ax.annotate(r'$ \\frac{{-(x - \\mu)} ^{2}}{2 {\\sigma}^{2}}  + c$' % mu, xy=(mu, -.5), ha=\"center\", fontsize=14)\n",
    "\n",
    "# Quantiles as vertical lines\n",
    "for v in qx:\n",
    "    plt.axvline(v, c = '.2', lw = .5)\n",
    "    \n",
    "ax.set_ylim(0,)\n",
    "ax.set_xlabel('Exporter size (log)')\n",
    "ax.set_ylabel('PDF')\n",
    "plt.savefig('./../../../thesis_writing/figures/gaussian_quantiles.png', dpi = 400)\n",
    "\n",
    "plt.xlim(3, 10.5)\n",
    "\n",
    "plt.show()"
   ]
  },
  {
   "cell_type": "markdown",
   "metadata": {},
   "source": [
    "### Summary table"
   ]
  },
  {
   "cell_type": "code",
   "execution_count": 27,
   "metadata": {},
   "outputs": [
    {
     "name": "stdout",
     "output_type": "stream",
     "text": [
      "\\begin{tabular}{lrrrrrr}\n",
      "\\toprule\n",
      "{} &  log(size) cut &  size cut &  CDF of value &  CDF of counts &  expected population (n) &  observed population (n) \\\\\n",
      "\\midrule\n",
      "1  &           6.77 &       5.8 &           0.1 &       0.959614 &                  1804808 &                  1788612 \\\\\n",
      "2  &           7.35 &      22.1 &           0.2 &       0.985598 &                    48869 &                    57525 \\\\\n",
      "3  &           7.76 &      57.8 &           0.3 &       0.993849 &                    15519 &                    19204 \\\\\n",
      "4  &           8.12 &     131.4 &           0.4 &       0.997235 &                     6368 &                     8280 \\\\\n",
      "5  &           8.45 &     283.0 &           0.5 &       0.998768 &                     2883 &                     3871 \\\\\n",
      "6  &           8.78 &     609.5 &           0.6 &       0.999483 &                     1344 &                     1865 \\\\\n",
      "7  &           9.14 &    1384.7 &           0.7 &       0.999809 &                      613 &                      650 \\\\\n",
      "8  &           9.56 &    3618.3 &           0.8 &       0.999945 &                      257 &                      283 \\\\\n",
      "9  &          10.14 &   13708.3 &           0.9 &       0.999992 &                       87 &                       69 \\\\\n",
      "10 &            inf &       inf &           1.0 &       1.000000 &                       15 &                       12 \\\\\n",
      "\\bottomrule\n",
      "\\end{tabular}\n",
      "\n"
     ]
    }
   ],
   "source": [
    "df_ = pd.DataFrame([], index = np.arange(10) + 1)\n",
    "df_['log(size) cut'] = qx\n",
    "df_['log(size) cut'] = df_['log(size) cut'].round(2)\n",
    "df_['size cut'] = np.power(10, qx).round(-5)/1e6\n",
    "df_['CDF of value'] = df_.index/10\n",
    "df_['CDF of counts'] = np.array(cum_cnt).round(6)\n",
    "# df_['Probability'] = np.diff(np.array([0] + cum_cnt))\n",
    "df_['expected population (n)'] = (len(fs_df_slice)*np.diff(np.array([0] + cum_cnt))).round()\n",
    "df_['expected population (n)'] = df_['expected population (n)'].astype(int)\n",
    "df_['observed population (n)'] = pd.cut(fs_df_slice['log_VART'], np.array([0] + qx)).value_counts().values\n",
    "\n",
    "print(df_.to_latex())"
   ]
  },
  {
   "cell_type": "code",
   "execution_count": 32,
   "metadata": {},
   "outputs": [
    {
     "data": {
      "text/plain": [
       "[['lognormal_fit_mu', '4.47'],\n",
       " ['lognormal_fit_muval', '8.45'],\n",
       " ['lognormal_fit_sigma', '1.31'],\n",
       " ['q910', '6.77']]"
      ]
     },
     "execution_count": 32,
     "metadata": {},
     "output_type": "execute_result"
    }
   ],
   "source": [
    "varnames_list += [['q910', \"{:.2f}\".format(qx[0])]] \n",
    "\n",
    "for name in varnames_list:\n",
    "    res = add_entry(vardict, *name)\n",
    "\n",
    "f = open(\"variables.json\",\"w\")\n",
    "f.write(json.dumps(res))\n",
    "f.close()\n",
    "\n",
    "varnames_list"
   ]
  },
  {
   "cell_type": "code",
   "execution_count": 26,
   "metadata": {},
   "outputs": [
    {
     "data": {
      "text/plain": [
       "0.9512016511635204"
      ]
     },
     "execution_count": 26,
     "metadata": {},
     "output_type": "execute_result"
    }
   ],
   "source": [
    "# # Check the proportin in some quantile...\n",
    "# N = df_.sum().values[-1]\n",
    "\n",
    "# q = 1\n",
    "# nq = df_.loc[q].values[-1]\n",
    "# (nq)/N"
   ]
  },
  {
   "cell_type": "code",
   "execution_count": 9,
   "metadata": {},
   "outputs": [
    {
     "ename": "NameError",
     "evalue": "name 'levels' is not defined",
     "output_type": "error",
     "traceback": [
      "\u001b[0;31m---------------------------------------------------------------------------\u001b[0m",
      "\u001b[0;31mNameError\u001b[0m                                 Traceback (most recent call last)",
      "\u001b[0;32m<ipython-input-9-0229172ad3a5>\u001b[0m in \u001b[0;36m<module>\u001b[0;34m()\u001b[0m\n\u001b[0;32m----> 1\u001b[0;31m \u001b[0msizes\u001b[0m \u001b[0;34m=\u001b[0m \u001b[0mpd\u001b[0m\u001b[0;34m.\u001b[0m\u001b[0mDataFrame\u001b[0m\u001b[0;34m(\u001b[0m\u001b[0mnp\u001b[0m\u001b[0;34m.\u001b[0m\u001b[0mlog10\u001b[0m\u001b[0;34m(\u001b[0m\u001b[0mlevels\u001b[0m\u001b[0;34m.\u001b[0m\u001b[0mmean\u001b[0m\u001b[0;34m(\u001b[0m\u001b[0;36m1\u001b[0m\u001b[0;34m)\u001b[0m\u001b[0;34m)\u001b[0m\u001b[0;34m,\u001b[0m \u001b[0mcolumns\u001b[0m \u001b[0;34m=\u001b[0m \u001b[0;34m[\u001b[0m\u001b[0;34m'log_size'\u001b[0m\u001b[0;34m]\u001b[0m\u001b[0;34m)\u001b[0m\u001b[0;34m\u001b[0m\u001b[0;34m\u001b[0m\u001b[0m\n\u001b[0m\u001b[1;32m      2\u001b[0m \u001b[0;34m\u001b[0m\u001b[0m\n\u001b[1;32m      3\u001b[0m \u001b[0msizes\u001b[0m\u001b[0;34m\u001b[0m\u001b[0;34m\u001b[0m\u001b[0m\n\u001b[1;32m      4\u001b[0m \u001b[0mcdf\u001b[0m \u001b[0;34m=\u001b[0m \u001b[0;34m[\u001b[0m\u001b[0;34m]\u001b[0m\u001b[0;34m\u001b[0m\u001b[0;34m\u001b[0m\u001b[0m\n\u001b[1;32m      5\u001b[0m \u001b[0;32mfor\u001b[0m \u001b[0mth\u001b[0m \u001b[0;32min\u001b[0m \u001b[0mx\u001b[0m\u001b[0;34m:\u001b[0m\u001b[0;34m\u001b[0m\u001b[0;34m\u001b[0m\u001b[0m\n",
      "\u001b[0;31mNameError\u001b[0m: name 'levels' is not defined"
     ]
    }
   ],
   "source": [
    "sizes = pd.DataFrame(np.log10(levels.mean(1)), columns = ['log_size'])\n",
    "\n",
    "sizes\n",
    "cdf = []\n",
    "for th in x:\n",
    "    cdf += [1-(sizes > th).sum()/len(sizes)]\n",
    "cdf = np.array(cdf).flatten()\n",
    "\n",
    "\n",
    "# For what matters, we could just fit a linear in the upper 90% of firms and drop the SMEs. The we would have a pareto/zipf\n",
    "\n",
    "y = np.log10(1 - cdf)\n",
    "\n",
    "# cut the lower part and drop some points at the end which might be empty (-inf)\n",
    "mask = np.where((x > value_qs[1]) & (y > -np.inf))\n",
    "x_fit = x.values[mask]\n",
    "y_fit = y[mask]\n",
    "\n",
    "z = np.polyfit(x_fit, y_fit, 1)\n",
    "p = np.poly1d(z)\n",
    "\n",
    "fig, ax = plt.subplots(1, figsize = (7, 5))\n",
    "\n",
    "xp = np.linspace(value_qs[1], 10, 2)\n",
    "\n",
    "ax.plot(xp, p(xp), '-', c = 'r', label='%.2f x + %.2f' % tuple(z))\n",
    "ax.plot(x, y, '.', label = 'observations', c = '.3')\n",
    "\n",
    "# pareto = np.log10(np.random.pareto(-z[0], 5996) + 1 ) + value_qs[1]\n",
    "# cdf_pareto = []\n",
    "# for th in x_fit:\n",
    "#     cdf_pareto += [1-(pareto > th).sum()/len(sizes)]\n",
    "# cdf_pareto = np.array(cdf_pareto).flatten()\n",
    "\n",
    "# plt.plot(x_fit + .115/2, np.log10(1-cdf_pareto))\n",
    "\n",
    "# Quantiles as vertical lines\n",
    "for v in qx:\n",
    "    plt.axvline(v, c = '.2', lw = .5)\n",
    "    \n",
    "ax.set_ylim(-6, 1)\n",
    "ax.set_xlabel('Exporter size (log)', fontsize = 13)\n",
    "ax.set_ylabel('log(1 - CDF)', fontsize = 13)\n",
    "ax.legend(loc = (.1, .1))\n",
    "\n",
    "plt.savefig('./../../../thesis_writing/figures/pareto_option.png', dpi = 400)\n",
    "plt.show()"
   ]
  },
  {
   "cell_type": "code",
   "execution_count": 10,
   "metadata": {},
   "outputs": [
    {
     "data": {
      "text/plain": [
       "[['pareto_optionA1', '-0.29'], ['pareto_optionA0', '2.59']]"
      ]
     },
     "execution_count": 10,
     "metadata": {},
     "output_type": "execute_result"
    }
   ],
   "source": [
    "varnames_list += [['pareto_optionA1', \"{:.2f}\".format(z[0])]] \n",
    "varnames_list += [['pareto_optionA0', \"{:.2f}\".format(z[1])]] \n",
    "\n",
    "for name in varnames_list:\n",
    "    res = add_entry(vardict, *name)\n",
    "\n",
    "f = open(\"variables.json\",\"w\")\n",
    "f.write(json.dumps(res))\n",
    "f.close()\n",
    "\n",
    "varnames_list"
   ]
  },
  {
   "cell_type": "code",
   "execution_count": 11,
   "metadata": {},
   "outputs": [
    {
     "name": "stdout",
     "output_type": "stream",
     "text": [
      "-0.28916987761932295\n"
     ]
    },
    {
     "data": {
      "text/plain": [
       "2.585433025854281"
      ]
     },
     "execution_count": 11,
     "metadata": {},
     "output_type": "execute_result"
    }
   ],
   "source": [
    "# 10**(-z[1]/z[0]) # sm\n",
    "\n",
    "print(z[0])\n",
    "\n",
    "z[1]"
   ]
  },
  {
   "cell_type": "markdown",
   "metadata": {},
   "source": [
    "## Empirical Growth rates"
   ]
  },
  {
   "cell_type": "code",
   "execution_count": 12,
   "metadata": {},
   "outputs": [],
   "source": [
    "# OK, we got the synthetic dist of exponents\n",
    "n = int(1e5)\n",
    "exps = np.random.normal(mu, sigma, n)"
   ]
  },
  {
   "cell_type": "code",
   "execution_count": 13,
   "metadata": {},
   "outputs": [],
   "source": [
    "\n",
    "cuadro = df.loc[df.IMPORT == 0].set_index(['ID', 'date'])[['VART']].unstack(0)['VART'].T\n",
    "\n",
    "# Firms present in at least two separate months\n",
    "cuadro = cuadro.loc[cuadro.count(1) > 6]\n",
    "\n",
    "# Fix the datetime index. (make sure it is an OK monthly index)\n",
    "start_yr = str(df.YEAR.min())\n",
    "cuadro.columns = pd.date_range(start='1/1/'+start_yr, periods=cuadro.shape[1], freq = 'M')\n",
    "\n",
    "cuadro_rolled = cuadro\n",
    "levels = cuadro_rolled.T.groupby(pd.Grouper(level=0, freq='Y')).sum().T\n"
   ]
  },
  {
   "cell_type": "markdown",
   "metadata": {},
   "source": [
    "### Growth rates defined as percentage change:"
   ]
  },
  {
   "cell_type": "code",
   "execution_count": 14,
   "metadata": {},
   "outputs": [
    {
     "data": {
      "image/png": "[encoded data removed]",
      "text/plain": [
       "<Figure size 432x288 with 1 Axes>"
      ]
     },
     "metadata": {},
     "output_type": "display_data"
    }
   ],
   "source": [
    "\n",
    "annual_pctdiff = levels.head(200000).pct_change(axis = 1).replace(np.inf, np.nan)\n",
    "# annual_log = np.log10(levels.reindex(annual_logdiff.index))\n",
    "bin_w = .02\n",
    "\n",
    "# Assume gabaix sigma eps and plot\n",
    "valid = annual_pctdiff.stack().loc[annual_pctdiff.stack() < 2]\n",
    "s = valid.std()\n",
    "cnt = len(valid)\n",
    "x = np.arange(-1, 2, .1)\n",
    "\n",
    "plt.plot(x, (bin_w * cnt)*gaussian(x, 0, s), c = 'r', label = 'gaussian')\n",
    "h = plt.hist(annual_pctdiff.stack(), np.arange(-1, 2, bin_w), label = 'empirical')\n",
    "\n",
    "plt.legend()\n",
    "\n",
    "plt.xlabel('proportional growth rate '+r'$\\epsilon$')\n",
    "plt.ylabel('counts \\n (per bin of width '+str(bin_w)+')')\n",
    "plt.ylim(0, 22000)\n",
    "\n",
    "plt.savefig('./../../../thesis_writing/figures/gabaix_growth_rates.png', dpi = 400)\n",
    "plt.show()"
   ]
  },
  {
   "cell_type": "markdown",
   "metadata": {},
   "source": [
    "### Growth rates defined as log diff"
   ]
  },
  {
   "cell_type": "code",
   "execution_count": 24,
   "metadata": {
    "scrolled": false
   },
   "outputs": [],
   "source": [
    "annual_logdiff = np.log10(levels).replace(-np.inf, np.nan).diff(axis = 1)\n",
    "annual_log = np.log10(levels.reindex(annual_logdiff.index))\n",
    "\n",
    "annual_logdiff = annual_logdiff.dropna(how = 'all').dropna(axis = 1, how = 'all')#.head(50000)\n",
    "\n",
    "vals = np.reshape(annual_logdiff.values, (int(np.prod(annual_logdiff.shape)/2), 2))\n",
    "growth_rates = pd.DataFrame(vals, columns = [0, 1], index = int(annual_logdiff.shape[1]/2)*list(annual_logdiff.index)).dropna()\n",
    "\n",
    "sizes = pd.DataFrame(np.log10(levels.mean(1)), columns = ['log_size'])"
   ]
  },
  {
   "cell_type": "code",
   "execution_count": 17,
   "metadata": {
    "scrolled": true
   },
   "outputs": [
    {
     "data": {
      "text/plain": [
       "0.5028367947412729"
      ]
     },
     "execution_count": 17,
     "metadata": {},
     "output_type": "execute_result"
    }
   ],
   "source": [
    "growth_rates[0].std()"
   ]
  },
  {
   "cell_type": "markdown",
   "metadata": {},
   "source": [
    "#### One step and two step growth simulation"
   ]
  },
  {
   "cell_type": "code",
   "execution_count": 18,
   "metadata": {},
   "outputs": [
    {
     "data": {
      "image/png": "[encoded data removed]",
      "text/plain": [
       "<Figure size 432x360 with 1 Axes>"
      ]
     },
     "metadata": {},
     "output_type": "display_data"
    }
   ],
   "source": [
    "x = fit_data.log_VART\n",
    "\n",
    "fig, axs = plt.subplots(1, figsize = (6, 5))\n",
    "\n",
    "ax = axs\n",
    "\n",
    "n = int(1e6)\n",
    "x0 = np.random.normal(mu, sigma, n)\n",
    "xs = x0\n",
    "\n",
    "cnt, bns = np.histogram(x0, x)\n",
    "cnt = cnt/cnt.sum()\n",
    "ax.plot(x[:-1] + .115/2, np.log(cnt) + 2.2, c = 'k')\n",
    "\n",
    "\n",
    "for s in range(5):\n",
    "    synth_gr = growth_rates.sample(n, replace = True).values\n",
    "    xs = xs + synth_gr[:, 0] + synth_gr[:, 1]\n",
    "\n",
    "    cnt, bns = np.histogram(xs, x)\n",
    "    cnt = cnt/cnt.sum()\n",
    "    ax.plot(x[:-1] + .115/2, np.log(cnt) + 2.2, c = 'b')\n",
    "    \n",
    "xs = x0\n",
    "\n",
    "for s in range(10):\n",
    "    synth_gr = growth_rates.sample(n, replace = True).values\n",
    "    xs = xs + synth_gr[:, 0]\n",
    "\n",
    "    cnt, bns = np.histogram(xs, x)\n",
    "    cnt = cnt/cnt.sum()\n",
    "    ax.plot(x[:-1] + .115/2, np.log(cnt) + 2.2, c = 'r')\n"
   ]
  },
  {
   "cell_type": "code",
   "execution_count": 19,
   "metadata": {},
   "outputs": [
    {
     "data": {
      "image/png": "[encoded data removed]",
      "text/plain": [
       "<Figure size 432x360 with 1 Axes>"
      ]
     },
     "metadata": {},
     "output_type": "display_data"
    }
   ],
   "source": [
    "fig, axs = plt.subplots(1, figsize = (6, 5))\n",
    "ax = axs\n",
    "cnt, bns = np.histogram(xs, x)\n",
    "cnt = cnt/cnt.sum()\n",
    "ax.plot(x[:-1] + .115/2, np.log(cnt) + 2.2, c = 'b')\n",
    "plt.show()"
   ]
  },
  {
   "cell_type": "code",
   "execution_count": 20,
   "metadata": {},
   "outputs": [],
   "source": [
    "#### Distinguish growth rates of small vs large firms"
   ]
  },
  {
   "cell_type": "code",
   "execution_count": 21,
   "metadata": {},
   "outputs": [
    {
     "data": {
      "image/png": "[encoded data removed]",
      "text/plain": [
       "<Figure size 432x360 with 1 Axes>"
      ]
     },
     "metadata": {},
     "output_type": "display_data"
    }
   ],
   "source": [
    "fig, axs = plt.subplots(1, figsize = (6, 5))\n",
    "ax = axs\n",
    "n = int(1e6)\n",
    "x0 = np.random.normal(mu, sigma, n)\n",
    "xs = x0\n",
    "for s in range(25):\n",
    "    q = np.quantile(x0, 1 - .158)\n",
    "    q = 5.8\n",
    "    xs1 = xs[xs < q]\n",
    "    synth_gr = growth_rates.loc[sizes.loc[sizes.log_size < q].index].sample(len(xs1), replace = True).values\n",
    "    xs1 = xs1 + synth_gr[:, 0] + synth_gr[:, 1]\n",
    "\n",
    "    xs2 = xs[xs > q]\n",
    "                                                           # Use the typical large firm depce\n",
    "    synth_gr = growth_rates.loc[sizes.loc[sizes.log_size > 8].index].sample(len(xs2), replace = True).values\n",
    "    xs2 = xs2 + synth_gr[:, 0] + synth_gr[:, 1]\n",
    "\n",
    "    xs = np.append(xs1, xs2)\n",
    "    \n",
    "    cnt, bns = np.histogram(xs, x)\n",
    "    cnt = cnt/cnt.sum()\n",
    "# plot last\n",
    "ax.plot(x[:-1] + .115/2, np.log(cnt) + 2.2, c = 'r')\n",
    "plt.show()"
   ]
  },
  {
   "cell_type": "code",
   "execution_count": null,
   "metadata": {},
   "outputs": [],
   "source": [
    "### Get N based on the deciles of the value dist: m_val = m_cnt + sigma"
   ]
  },
  {
   "cell_type": "code",
   "execution_count": 125,
   "metadata": {},
   "outputs": [
    {
     "data": {
      "text/plain": [
       "[<matplotlib.lines.Line2D at 0x7f1fea035940>]"
      ]
     },
     "execution_count": 125,
     "metadata": {},
     "output_type": "execute_result"
    },
    {
     "data": {
      "image/png": "[encoded data removed]",
      "text/plain": [
       "<Figure size 432x288 with 1 Axes>"
      ]
     },
     "metadata": {},
     "output_type": "display_data"
    }
   ],
   "source": [
    "x = fit_data.log_VART\n",
    "y = fit_data.counts\n",
    "y2 = fit_data.value\n",
    "z = np.polyfit(x, y, 2)\n",
    "p = np.poly1d(z)\n",
    "\n",
    "xp = np.linspace(3, 10, 70)\n",
    "plt.plot(xp, p(xp), '-', c = 'r')\n",
    "plt.plot(x, y, '.')\n",
    "plt.plot(x, y2, '.')\n",
    "\n",
    "sigma = 1/np.sqrt(-2*z[0])\n",
    "mu = -z[1]/(2*z[0])\n",
    "\n",
    "cnt, bns = np.histogram(np.random.normal(mu, sigma, 1000000), x)\n",
    "cnt = cnt/cnt.sum()\n",
    "plt.plot(x[:-1] + .115/2, np.log(cnt) + 2.2)\n",
    "\n",
    "cnt, bns = np.histogram(np.random.normal(mu + (sigma**2)*np.log(10), sigma, 1000000), x)\n",
    "cnt = cnt/cnt.sum()\n",
    "plt.plot(x[:-1] + .115/2, np.log(cnt) + 2.2)"
   ]
  },
  {
   "cell_type": "code",
   "execution_count": 128,
   "metadata": {},
   "outputs": [
    {
     "data": {
      "text/plain": [
       "(3, 10)"
      ]
     },
     "execution_count": 128,
     "metadata": {},
     "output_type": "execute_result"
    },
    {
     "data": {
      "image/png": "[encoded data removed]",
      "text/plain": [
       "<Figure size 432x288 with 1 Axes>"
      ]
     },
     "metadata": {},
     "output_type": "display_data"
    }
   ],
   "source": [
    "cnt, bns = np.histogram(np.random.normal(mu, sigma, 1000000), x)\n",
    "cnt = cnt/cnt.sum()\n",
    "plt.plot(x[:-1] + .115/2, np.log(cnt) + 2.2)\n",
    "\n",
    "cnt, bns = np.histogram(np.random.normal(mu + (sigma**2)*np.log(10), sigma, 1000000), x)\n",
    "cnt = cnt/cnt.sum()\n",
    "plt.plot(x[:-1] + .115/2, np.log(cnt) + 2.2)\n",
    "\n",
    "value_qs = []\n",
    "for q in range(0, 110, 10):\n",
    "    value_qs += [np.percentile(np.random.normal(mu + (sigma**2)*np.log(10), sigma, 1000000), q)]\n",
    "    \n",
    "    \n",
    "for v in value_qs:\n",
    "    plt.axvline(v, c = '.7')\n",
    "plt.xlim(3, 10)"
   ]
  },
  {
   "cell_type": "code",
   "execution_count": 212,
   "metadata": {},
   "outputs": [
    {
     "data": {
      "text/plain": [
       "array([0.0010321 , 0.00620771, 0.01102033, 0.01721581, 0.02501564,\n",
       "       0.03820804, 0.05415304, 0.08164966, 0.16012815, 0.5       ])"
      ]
     },
     "execution_count": 212,
     "metadata": {},
     "output_type": "execute_result"
    }
   ],
   "source": [
    "1/np.sqrt(cnt)"
   ]
  },
  {
   "cell_type": "code",
   "execution_count": 160,
   "metadata": {},
   "outputs": [
    {
     "data": {
      "text/plain": [
       "900.7069616646027"
      ]
     },
     "execution_count": 160,
     "metadata": {},
     "output_type": "execute_result"
    }
   ],
   "source": [
    "np.power(-np.power(10, z[1])/(z[0]-1), -1/(z[0]-1))"
   ]
  },
  {
   "cell_type": "code",
   "execution_count": 156,
   "metadata": {},
   "outputs": [
    {
     "data": {
      "text/plain": [
       "-2707451.7789549506"
      ]
     },
     "execution_count": 156,
     "metadata": {},
     "output_type": "execute_result"
    }
   ],
   "source": [
    "np.power(10, z[1])/(z[0]-1)"
   ]
  },
  {
   "cell_type": "code",
   "execution_count": 243,
   "metadata": {},
   "outputs": [
    {
     "data": {
      "text/plain": [
       "log_size    169990\n",
       "dtype: int64"
      ]
     },
     "execution_count": 243,
     "metadata": {},
     "output_type": "execute_result"
    }
   ],
   "source": [
    "(sizes > value_qs[0]).sum()"
   ]
  },
  {
   "cell_type": "code",
   "execution_count": 209,
   "metadata": {},
   "outputs": [
    {
     "data": {
      "text/plain": [
       "-1.1771463517566294"
      ]
     },
     "execution_count": 209,
     "metadata": {},
     "output_type": "execute_result"
    }
   ],
   "source": [
    "z[0]"
   ]
  },
  {
   "cell_type": "code",
   "execution_count": 210,
   "metadata": {},
   "outputs": [
    {
     "data": {
      "text/plain": [
       "6.761137273357318"
      ]
     },
     "execution_count": 210,
     "metadata": {},
     "output_type": "execute_result"
    }
   ],
   "source": [
    "value_qs[1]"
   ]
  },
  {
   "cell_type": "code",
   "execution_count": null,
   "metadata": {},
   "outputs": [],
   "source": []
  }
 ],
 "metadata": {
  "kernelspec": {
   "display_name": "Python 3",
   "language": "python",
   "name": "python3"
  },
  "language_info": {
   "codemirror_mode": {
    "name": "ipython",
    "version": 3
   },
   "file_extension": ".py",
   "mimetype": "text/x-python",
   "name": "python",
   "nbconvert_exporter": "python",
   "pygments_lexer": "ipython3",
   "version": "3.6.7"
  }
 },
 "nbformat": 4,
 "nbformat_minor": 2
}
