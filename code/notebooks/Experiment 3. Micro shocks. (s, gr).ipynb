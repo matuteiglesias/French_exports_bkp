{
 "cells": [
  {
   "cell_type": "code",
   "execution_count": 1,
   "metadata": {},
   "outputs": [
    {
     "data": {
      "text/html": [
       "<style>.container { width:100% !important; }</style>"
      ],
      "text/plain": [
       "<IPython.core.display.HTML object>"
      ]
     },
     "metadata": {},
     "output_type": "display_data"
    }
   ],
   "source": [
    "import pandas as pd\n",
    "import matplotlib.pyplot as plt\n",
    "%matplotlib inline\n",
    "import numpy as np\n",
    "\n",
    "from IPython.core.display import display, HTML\n",
    "display(HTML(\"<style>.container { width:100% !important; }</style>\"))"
   ]
  },
  {
   "cell_type": "code",
   "execution_count": 2,
   "metadata": {},
   "outputs": [
    {
     "data": {
      "text/plain": [
       "0    98643\n",
       "1     4212\n",
       "2     1414\n",
       "3      635\n",
       "4      319\n",
       "5      168\n",
       "6       92\n",
       "7       46\n",
       "8       17\n",
       "9        5\n",
       "dtype: int64"
      ]
     },
     "execution_count": 2,
     "metadata": {},
     "output_type": "execute_result"
    }
   ],
   "source": [
    "df = pd.read_csv('./../../data/processed/ID_Y.csv')\n",
    "# df = pd.read_csv('./../../data/processed/.csv')\n",
    "\n",
    "Mbool = 0\n",
    "sales = df.loc[df.IMPORT == Mbool].groupby(['ID', 'YEAR'])['VART'].sum().unstack()\n",
    "\n",
    "sales = sales.loc[sales.sum(1).sort_values().index]\n",
    "\n",
    "logsales = np.log10(sales)\n",
    "demlogsales = logsales.subtract(logsales.mean(1), axis = 0)\n",
    "\n",
    "sizes = sales.loc[sales.sum(1).sort_values().index].sum(1)\n",
    "\n",
    "Q = 10\n",
    "parts = pd.cut(sizes.cumsum()/sizes.sum(), Q, labels = range(Q)).sort_index()\n",
    "\n",
    "## Effective Nq\n",
    "eff_nq = sales.groupby(parts).count().mean(1).round().astype(int)\n",
    "eff_nq"
   ]
  },
  {
   "cell_type": "code",
   "execution_count": 3,
   "metadata": {},
   "outputs": [
    {
     "data": {
      "text/plain": [
       "6908"
      ]
     },
     "execution_count": 3,
     "metadata": {},
     "output_type": "execute_result"
    }
   ],
   "source": [
    "eff_nq[1:].sum()"
   ]
  },
  {
   "cell_type": "code",
   "execution_count": 4,
   "metadata": {},
   "outputs": [
    {
     "data": {
      "text/plain": [
       "1615735"
      ]
     },
     "execution_count": 4,
     "metadata": {},
     "output_type": "execute_result"
    }
   ],
   "source": [
    "\n",
    "## Microshocks\n",
    "\n",
    "demlogsales['parts'] = parts\n",
    "std_data = demlogsales.loc[demlogsales.iloc[:, :-1].count(1) > 1]\n",
    "std_data.reset_index().set_index(['ID', 'parts']).stack().groupby(level = 'parts').std()\n",
    "\n",
    "\n",
    "# Un array de donde samplear shocks empiricos.\n",
    "emp_shocks = std_data.reset_index().set_index(['ID', 'parts']).stack().values\n",
    "len(emp_shocks)"
   ]
  },
  {
   "cell_type": "code",
   "execution_count": 5,
   "metadata": {},
   "outputs": [],
   "source": [
    "# emp_nqs = np.round(nq.sort_values()).astype(int)\n",
    "partition = eff_nq.astype(int)\n",
    "ss = np.arange(0.1, .8, .1)\n",
    "M = 200\n",
    "\n",
    "T = 17"
   ]
  },
  {
   "cell_type": "code",
   "execution_count": 6,
   "metadata": {},
   "outputs": [
    {
     "name": "stdout",
     "output_type": "stream",
     "text": [
      "1 4212\n",
      "2 1414\n",
      "3 635\n",
      "4 319\n",
      "5 168\n",
      "6 92\n",
      "7 46\n",
      "8 17\n",
      "9 5\n",
      "1 4212\n",
      "2 1414\n",
      "3 635\n",
      "4 319\n",
      "5 168\n",
      "6 92\n",
      "7 46\n",
      "8 17\n",
      "9 5\n",
      "1 4212\n",
      "2 1414\n",
      "3 635\n",
      "4 319\n",
      "5 168\n",
      "6 92\n",
      "7 46\n",
      "8 17\n",
      "9 5\n"
     ]
    }
   ],
   "source": [
    "\n",
    "### Experiments (gaussian and laplace deviations from mean)\n",
    "\n",
    "results = []\n",
    "\n",
    "s0 = emp_shocks.std()\n",
    "\n",
    "for dist in ['norm', 'lapl', 'emp']:\n",
    "    for q in range(Q)[1:]:\n",
    "        part = partition.index[q]\n",
    "        n = partition.values[q]\n",
    "#         x0 = np.log10(sizes.loc[parts == part]).values # comment for narrow bin limit\n",
    "        print(q, n)\n",
    "        for s in ss:\n",
    "            for m in range(M):\n",
    "                if dist == 'norm':\n",
    "                    shocks = np.random.normal(0, s, (n, T))\n",
    "                elif dist == 'lapl':\n",
    "                    shocks = np.random.laplace(0, s, (n, T))/np.sqrt(2)\n",
    "                elif dist == 'emp':\n",
    "                    shocks = (np.random.choice(emp_shocks, n * T)*(s/s0)).reshape(n, T)\n",
    "                    \n",
    "                values = np.log10(np.power(10, shocks).sum(0)/n) #M?\n",
    "#                 values = np.log10(np.power(10, x0[:, None] + shocks).sum(0)/np.power(10, x0[:, None]).sum(0)) #M? # comment for narrow bin limit\n",
    "\n",
    "#             t += [np.power(10, x0 + x1).sum()/(n*10**mu0)]\n",
    "                results += [[dist, s, n, m, values.mean(), values.std(), values.var()]]\n",
    "\n",
    "result = pd.DataFrame(results, columns = ['dist', 's', 'nq', 'repeat', 'mean', 'std', 'var'])\n"
   ]
  },
  {
   "cell_type": "code",
   "execution_count": 7,
   "metadata": {},
   "outputs": [],
   "source": [
    "result.to_csv('./experiment_3.csv', index = False)"
   ]
  },
  {
   "cell_type": "code",
   "execution_count": 8,
   "metadata": {},
   "outputs": [
    {
     "data": {
      "text/html": [
       "<div>\n",
       "<style scoped>\n",
       "    .dataframe tbody tr th:only-of-type {\n",
       "        vertical-align: middle;\n",
       "    }\n",
       "\n",
       "    .dataframe tbody tr th {\n",
       "        vertical-align: top;\n",
       "    }\n",
       "\n",
       "    .dataframe thead th {\n",
       "        text-align: right;\n",
       "    }\n",
       "</style>\n",
       "<table border=\"1\" class=\"dataframe\">\n",
       "  <thead>\n",
       "    <tr style=\"text-align: right;\">\n",
       "      <th></th>\n",
       "      <th>dist</th>\n",
       "      <th>s</th>\n",
       "      <th>nq</th>\n",
       "      <th>repeat</th>\n",
       "      <th>mean</th>\n",
       "      <th>std</th>\n",
       "      <th>var</th>\n",
       "    </tr>\n",
       "  </thead>\n",
       "  <tbody>\n",
       "    <tr>\n",
       "      <th>0</th>\n",
       "      <td>norm</td>\n",
       "      <td>0.1</td>\n",
       "      <td>4212</td>\n",
       "      <td>0</td>\n",
       "      <td>0.011657</td>\n",
       "      <td>0.001361</td>\n",
       "      <td>1.852769e-06</td>\n",
       "    </tr>\n",
       "    <tr>\n",
       "      <th>1</th>\n",
       "      <td>norm</td>\n",
       "      <td>0.1</td>\n",
       "      <td>4212</td>\n",
       "      <td>1</td>\n",
       "      <td>0.011506</td>\n",
       "      <td>0.001403</td>\n",
       "      <td>1.969753e-06</td>\n",
       "    </tr>\n",
       "    <tr>\n",
       "      <th>2</th>\n",
       "      <td>norm</td>\n",
       "      <td>0.1</td>\n",
       "      <td>4212</td>\n",
       "      <td>2</td>\n",
       "      <td>0.011941</td>\n",
       "      <td>0.001779</td>\n",
       "      <td>3.164610e-06</td>\n",
       "    </tr>\n",
       "    <tr>\n",
       "      <th>3</th>\n",
       "      <td>norm</td>\n",
       "      <td>0.1</td>\n",
       "      <td>4212</td>\n",
       "      <td>3</td>\n",
       "      <td>0.011290</td>\n",
       "      <td>0.001203</td>\n",
       "      <td>1.446662e-06</td>\n",
       "    </tr>\n",
       "    <tr>\n",
       "      <th>4</th>\n",
       "      <td>norm</td>\n",
       "      <td>0.1</td>\n",
       "      <td>4212</td>\n",
       "      <td>4</td>\n",
       "      <td>0.011373</td>\n",
       "      <td>0.000835</td>\n",
       "      <td>6.964926e-07</td>\n",
       "    </tr>\n",
       "  </tbody>\n",
       "</table>\n",
       "</div>"
      ],
      "text/plain": [
       "   dist    s    nq  repeat      mean       std           var\n",
       "0  norm  0.1  4212       0  0.011657  0.001361  1.852769e-06\n",
       "1  norm  0.1  4212       1  0.011506  0.001403  1.969753e-06\n",
       "2  norm  0.1  4212       2  0.011941  0.001779  3.164610e-06\n",
       "3  norm  0.1  4212       3  0.011290  0.001203  1.446662e-06\n",
       "4  norm  0.1  4212       4  0.011373  0.000835  6.964926e-07"
      ]
     },
     "execution_count": 8,
     "metadata": {},
     "output_type": "execute_result"
    }
   ],
   "source": [
    "result.head()"
   ]
  },
  {
   "cell_type": "code",
   "execution_count": null,
   "metadata": {},
   "outputs": [],
   "source": []
  }
 ],
 "metadata": {
  "kernelspec": {
   "display_name": "Python 3",
   "language": "python",
   "name": "python3"
  },
  "language_info": {
   "codemirror_mode": {
    "name": "ipython",
    "version": 3
   },
   "file_extension": ".py",
   "mimetype": "text/x-python",
   "name": "python",
   "nbconvert_exporter": "python",
   "pygments_lexer": "ipython3",
   "version": "3.6.7"
  }
 },
 "nbformat": 4,
 "nbformat_minor": 2
}
